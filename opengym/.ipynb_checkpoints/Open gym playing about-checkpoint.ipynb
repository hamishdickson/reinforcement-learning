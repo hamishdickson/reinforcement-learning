{
 "cells": [
  {
   "cell_type": "code",
   "execution_count": 2,
   "metadata": {},
   "outputs": [],
   "source": [
    "import gym"
   ]
  },
  {
   "cell_type": "code",
   "execution_count": 3,
   "metadata": {},
   "outputs": [],
   "source": [
    "env = gym.make('FrozenLake-v0')"
   ]
  },
  {
   "cell_type": "code",
   "execution_count": 4,
   "metadata": {},
   "outputs": [],
   "source": [
    "obs = env.reset()"
   ]
  },
  {
   "cell_type": "code",
   "execution_count": 5,
   "metadata": {},
   "outputs": [
    {
     "data": {
      "text/plain": [
       "()"
      ]
     },
     "execution_count": 5,
     "metadata": {},
     "output_type": "execute_result"
    }
   ],
   "source": [
    "obs.shape"
   ]
  },
  {
   "cell_type": "code",
   "execution_count": 6,
   "metadata": {},
   "outputs": [
    {
     "data": {
      "text/plain": [
       "Discrete(4)"
      ]
     },
     "execution_count": 6,
     "metadata": {},
     "output_type": "execute_result"
    }
   ],
   "source": [
    "env.action_space"
   ]
  },
  {
   "cell_type": "code",
   "execution_count": 7,
   "metadata": {},
   "outputs": [],
   "source": [
    "def move(e, action):\n",
    "    e.step(action)\n",
    "    e.render()"
   ]
  },
  {
   "cell_type": "code",
   "execution_count": 8,
   "metadata": {},
   "outputs": [
    {
     "name": "stdout",
     "output_type": "stream",
     "text": [
      "  (Down)\n",
      "SFFF\n",
      "\u001b[41mF\u001b[0mHFH\n",
      "FFFH\n",
      "HFFG\n"
     ]
    }
   ],
   "source": [
    "move(env, 1)"
   ]
  },
  {
   "cell_type": "code",
   "execution_count": 102,
   "metadata": {},
   "outputs": [],
   "source": [
    "env = gym.make(\"Taxi-v2\")"
   ]
  },
  {
   "cell_type": "code",
   "execution_count": 103,
   "metadata": {},
   "outputs": [
    {
     "data": {
      "text/plain": [
       "171"
      ]
     },
     "execution_count": 103,
     "metadata": {},
     "output_type": "execute_result"
    }
   ],
   "source": [
    "env.reset()"
   ]
  },
  {
   "cell_type": "code",
   "execution_count": 104,
   "metadata": {},
   "outputs": [
    {
     "data": {
      "text/plain": [
       "500"
      ]
     },
     "execution_count": 104,
     "metadata": {},
     "output_type": "execute_result"
    }
   ],
   "source": [
    "env.observation_space.n"
   ]
  },
  {
   "cell_type": "code",
   "execution_count": 105,
   "metadata": {},
   "outputs": [
    {
     "name": "stdout",
     "output_type": "stream",
     "text": [
      "+---------+\n",
      "|R: | : :G|\n",
      "| : : :\u001b[43m \u001b[0m: |\n",
      "| : : : : |\n",
      "| | : | : |\n",
      "|\u001b[34;1mY\u001b[0m| : |\u001b[35mB\u001b[0m: |\n",
      "+---------+\n",
      "\n"
     ]
    }
   ],
   "source": [
    "env.render()"
   ]
  },
  {
   "cell_type": "code",
   "execution_count": 106,
   "metadata": {},
   "outputs": [
    {
     "data": {
      "text/plain": [
       "6"
      ]
     },
     "execution_count": 106,
     "metadata": {},
     "output_type": "execute_result"
    }
   ],
   "source": [
    "env.action_space.n"
   ]
  },
  {
   "cell_type": "code",
   "execution_count": 107,
   "metadata": {},
   "outputs": [
    {
     "name": "stdout",
     "output_type": "stream",
     "text": [
      "+---------+\n",
      "|\u001b[43mR\u001b[0m: | : :G|\n",
      "| : : : : |\n",
      "| : : : : |\n",
      "| | : | : |\n",
      "|\u001b[34;1mY\u001b[0m| : |\u001b[35mB\u001b[0m: |\n",
      "+---------+\n",
      "\n"
     ]
    }
   ],
   "source": [
    "env.env.s = 11\n",
    "env.render()"
   ]
  },
  {
   "cell_type": "code",
   "execution_count": 108,
   "metadata": {},
   "outputs": [
    {
     "name": "stdout",
     "output_type": "stream",
     "text": [
      "+---------+\n",
      "|\u001b[43mR\u001b[0m: | : :G|\n",
      "| : : : : |\n",
      "| : : : : |\n",
      "| | : | : |\n",
      "|\u001b[34;1mY\u001b[0m| : |\u001b[35mB\u001b[0m: |\n",
      "+---------+\n",
      "  (North)\n"
     ]
    }
   ],
   "source": [
    "env.step(1)\n",
    "env.render()"
   ]
  },
  {
   "cell_type": "code",
   "execution_count": 109,
   "metadata": {},
   "outputs": [],
   "source": [
    "state, reward, done, info = env.step(1)"
   ]
  },
  {
   "cell_type": "code",
   "execution_count": 110,
   "metadata": {},
   "outputs": [
    {
     "name": "stdout",
     "output_type": "stream",
     "text": [
      "11 -1 False {'prob': 1.0}\n"
     ]
    }
   ],
   "source": [
    "print(state, reward, done, info)"
   ]
  },
  {
   "cell_type": "code",
   "execution_count": 111,
   "metadata": {},
   "outputs": [
    {
     "data": {
      "text/plain": [
       "(-inf, inf)"
      ]
     },
     "execution_count": 111,
     "metadata": {},
     "output_type": "execute_result"
    }
   ],
   "source": [
    "env.reward_range"
   ]
  },
  {
   "cell_type": "code",
   "execution_count": 112,
   "metadata": {},
   "outputs": [
    {
     "name": "stdout",
     "output_type": "stream",
     "text": [
      "17850\n"
     ]
    }
   ],
   "source": [
    "state = env.reset()\n",
    "counter = 0\n",
    "reward = None\n",
    "while reward != 20:\n",
    "    state, reward, done, info = env.step(env.action_space.sample())\n",
    "    counter += 1\n",
    "\n",
    "print(counter)"
   ]
  },
  {
   "cell_type": "code",
   "execution_count": 113,
   "metadata": {},
   "outputs": [],
   "source": [
    "import numpy as np\n",
    "Q = np.zeros([env.observation_space.n, env.action_space.n])"
   ]
  },
  {
   "cell_type": "code",
   "execution_count": 114,
   "metadata": {},
   "outputs": [],
   "source": [
    "# total acc reward for each state\n",
    "G = 0"
   ]
  },
  {
   "cell_type": "code",
   "execution_count": 115,
   "metadata": {},
   "outputs": [],
   "source": [
    "alpha = 0.618"
   ]
  },
  {
   "cell_type": "code",
   "execution_count": 116,
   "metadata": {},
   "outputs": [
    {
     "name": "stdout",
     "output_type": "stream",
     "text": [
      "Episode 50 Total Reward: -560\n",
      "Episode 100 Total Reward: 14\n",
      "Episode 150 Total Reward: -205\n",
      "Episode 200 Total Reward: -7\n",
      "Episode 250 Total Reward: -4\n",
      "Episode 300 Total Reward: 13\n",
      "Episode 350 Total Reward: -4\n",
      "Episode 400 Total Reward: 6\n",
      "Episode 450 Total Reward: 10\n",
      "Episode 500 Total Reward: 7\n",
      "Episode 550 Total Reward: 3\n",
      "Episode 600 Total Reward: 7\n",
      "Episode 650 Total Reward: 9\n",
      "Episode 700 Total Reward: 7\n",
      "Episode 750 Total Reward: 10\n",
      "Episode 800 Total Reward: 11\n",
      "Episode 850 Total Reward: 6\n",
      "Episode 900 Total Reward: 13\n",
      "Episode 950 Total Reward: 7\n",
      "Episode 1000 Total Reward: 9\n"
     ]
    }
   ],
   "source": [
    "for episode in range(1,1001):\n",
    "    done = False\n",
    "    G, reward = 0,0\n",
    "    state = env.reset()\n",
    "    while done != True:\n",
    "            action = np.argmax(Q[state]) #1\n",
    "            state2, reward, done, info = env.step(action) #2\n",
    "            Q[state,action] += alpha * (reward + np.max(Q[state2]) - Q[state,action]) #3\n",
    "            G += reward\n",
    "            state = state2   \n",
    "    if episode % 50 == 0:\n",
    "        print('Episode {} Total Reward: {}'.format(episode,G))"
   ]
  },
  {
   "cell_type": "code",
   "execution_count": 117,
   "metadata": {},
   "outputs": [
    {
     "data": {
      "text/plain": [
       "array([[ 0.00000000e+00,  0.00000000e+00,  0.00000000e+00,\n",
       "         0.00000000e+00,  0.00000000e+00,  0.00000000e+00],\n",
       "       [-4.26094938e+00, -4.32600000e+00, -4.60798739e+00,\n",
       "        -4.32600000e+00,  2.69934246e+03, -6.18000000e+00],\n",
       "       [-3.68863072e+00, -3.70800000e+00, -4.06864028e+00,\n",
       "        -3.70800000e+00,  2.52725209e+03, -6.18000000e+00],\n",
       "       ...,\n",
       "       [-3.09000000e+00, -3.24094572e+00, -3.09000000e+00,\n",
       "        -3.59652939e+00, -6.18000000e+00, -6.18000000e+00],\n",
       "       [-3.70800000e+00, -3.90150370e+00, -3.70800000e+00,\n",
       "        -4.39314533e+00, -6.18000000e+00, -6.18000000e+00],\n",
       "       [-1.23600000e+00, -1.23600000e+00, -1.23600000e+00,\n",
       "         6.78440400e+00, -6.18000000e+00, -6.18000000e+00]])"
      ]
     },
     "execution_count": 117,
     "metadata": {},
     "output_type": "execute_result"
    }
   ],
   "source": [
    "Q"
   ]
  },
  {
   "cell_type": "code",
   "execution_count": 118,
   "metadata": {},
   "outputs": [
    {
     "data": {
      "text/plain": [
       "array([[   0.        ,    0.        ,    0.        ,    0.        ,\n",
       "           0.        ,    0.        ],\n",
       "       [  -4.26094938,   -4.326     ,   -4.60798739,   -4.326     ,\n",
       "        2699.34245577,   -6.18      ],\n",
       "       [  -3.68863072,   -3.708     ,   -4.06864028,   -3.708     ,\n",
       "        2527.25208951,   -6.18      ],\n",
       "       [  -4.73295813,   -4.944     ,   -4.89831904,   -4.944     ,\n",
       "        2622.24454333,   -6.18      ],\n",
       "       [ 292.29961128,   -9.27      ,   -8.82361075,   -9.27      ,\n",
       "         -12.36      ,  -12.36      ]])"
      ]
     },
     "execution_count": 118,
     "metadata": {},
     "output_type": "execute_result"
    }
   ],
   "source": [
    "Q[:5]"
   ]
  },
  {
   "cell_type": "code",
   "execution_count": 119,
   "metadata": {},
   "outputs": [],
   "source": [
    "state = env.reset()"
   ]
  },
  {
   "cell_type": "code",
   "execution_count": 120,
   "metadata": {},
   "outputs": [
    {
     "name": "stdout",
     "output_type": "stream",
     "text": [
      "+---------+\n",
      "|\u001b[34;1mR\u001b[0m: | : :G|\n",
      "| : : : :\u001b[43m \u001b[0m|\n",
      "| : : : : |\n",
      "| | : | : |\n",
      "|Y| : |\u001b[35mB\u001b[0m: |\n",
      "+---------+\n",
      "\n"
     ]
    }
   ],
   "source": [
    "env.render()"
   ]
  },
  {
   "cell_type": "code",
   "execution_count": 121,
   "metadata": {},
   "outputs": [
    {
     "name": "stdout",
     "output_type": "stream",
     "text": [
      "[  -7.65290331   -7.80804837   -8.034      2191.96292321  -12.36\n",
      "  -12.36      ]\n",
      "False\n",
      "+---------+\n",
      "|\u001b[34;1mR\u001b[0m: | : :G|\n",
      "| : : :\u001b[43m \u001b[0m: |\n",
      "| : : : : |\n",
      "| | : | : |\n",
      "|Y| : |\u001b[35mB\u001b[0m: |\n",
      "+---------+\n",
      "  (West)\n"
     ]
    }
   ],
   "source": [
    "action = np.argmax(Q[state])\n",
    "print(Q[state])\n",
    "state, reward, done, info = env.step(action)\n",
    "print(done)\n",
    "env.render()"
   ]
  },
  {
   "cell_type": "code",
   "execution_count": 122,
   "metadata": {},
   "outputs": [],
   "source": [
    "def play_game(state, q):\n",
    "    done = False\n",
    "    env.render()\n",
    "    while not done:\n",
    "        action = np.argmax(Q[state])\n",
    "        state, reward, done, info = env.step(action)\n",
    "        print(reward)\n",
    "        env.render()"
   ]
  },
  {
   "cell_type": "code",
   "execution_count": 123,
   "metadata": {},
   "outputs": [
    {
     "name": "stdout",
     "output_type": "stream",
     "text": [
      "+---------+\n",
      "|R: | : :\u001b[35mG\u001b[0m|\n",
      "| : : : : |\n",
      "| : : : : |\n",
      "| | : | : |\n",
      "|\u001b[34;1mY\u001b[0m| :\u001b[43m \u001b[0m|B: |\n",
      "+---------+\n",
      "\n",
      "-1\n",
      "+---------+\n",
      "|R: | : :\u001b[35mG\u001b[0m|\n",
      "| : : : : |\n",
      "| : : : : |\n",
      "| | :\u001b[43m \u001b[0m| : |\n",
      "|\u001b[34;1mY\u001b[0m| : |B: |\n",
      "+---------+\n",
      "  (North)\n",
      "-1\n",
      "+---------+\n",
      "|R: | : :\u001b[35mG\u001b[0m|\n",
      "| : : : : |\n",
      "| : :\u001b[43m \u001b[0m: : |\n",
      "| | : | : |\n",
      "|\u001b[34;1mY\u001b[0m| : |B: |\n",
      "+---------+\n",
      "  (North)\n",
      "-1\n",
      "+---------+\n",
      "|R: | : :\u001b[35mG\u001b[0m|\n",
      "| : : : : |\n",
      "| :\u001b[43m \u001b[0m: : : |\n",
      "| | : | : |\n",
      "|\u001b[34;1mY\u001b[0m| : |B: |\n",
      "+---------+\n",
      "  (West)\n",
      "-1\n",
      "+---------+\n",
      "|R: | : :\u001b[35mG\u001b[0m|\n",
      "| : : : : |\n",
      "|\u001b[43m \u001b[0m: : : : |\n",
      "| | : | : |\n",
      "|\u001b[34;1mY\u001b[0m| : |B: |\n",
      "+---------+\n",
      "  (West)\n",
      "-1\n",
      "+---------+\n",
      "|R: | : :\u001b[35mG\u001b[0m|\n",
      "| : : : : |\n",
      "| : : : : |\n",
      "|\u001b[43m \u001b[0m| : | : |\n",
      "|\u001b[34;1mY\u001b[0m| : |B: |\n",
      "+---------+\n",
      "  (South)\n",
      "-1\n",
      "+---------+\n",
      "|R: | : :\u001b[35mG\u001b[0m|\n",
      "| : : : : |\n",
      "| : : : : |\n",
      "| | : | : |\n",
      "|\u001b[34;1m\u001b[43mY\u001b[0m\u001b[0m| : |B: |\n",
      "+---------+\n",
      "  (South)\n",
      "-1\n",
      "+---------+\n",
      "|R: | : :\u001b[35mG\u001b[0m|\n",
      "| : : : : |\n",
      "| : : : : |\n",
      "| | : | : |\n",
      "|\u001b[42mY\u001b[0m| : |B: |\n",
      "+---------+\n",
      "  (Pickup)\n",
      "-1\n",
      "+---------+\n",
      "|R: | : :\u001b[35mG\u001b[0m|\n",
      "| : : : : |\n",
      "| : : : : |\n",
      "|\u001b[42m_\u001b[0m| : | : |\n",
      "|Y| : |B: |\n",
      "+---------+\n",
      "  (North)\n",
      "-1\n",
      "+---------+\n",
      "|R: | : :\u001b[35mG\u001b[0m|\n",
      "| : : : : |\n",
      "|\u001b[42m_\u001b[0m: : : : |\n",
      "| | : | : |\n",
      "|Y| : |B: |\n",
      "+---------+\n",
      "  (North)\n",
      "-1\n",
      "+---------+\n",
      "|R: | : :\u001b[35mG\u001b[0m|\n",
      "|\u001b[42m_\u001b[0m: : : : |\n",
      "| : : : : |\n",
      "| | : | : |\n",
      "|Y| : |B: |\n",
      "+---------+\n",
      "  (North)\n",
      "-1\n",
      "+---------+\n",
      "|R: | : :\u001b[35mG\u001b[0m|\n",
      "| :\u001b[42m_\u001b[0m: : : |\n",
      "| : : : : |\n",
      "| | : | : |\n",
      "|Y| : |B: |\n",
      "+---------+\n",
      "  (East)\n",
      "-1\n",
      "+---------+\n",
      "|R: | : :\u001b[35mG\u001b[0m|\n",
      "| : :\u001b[42m_\u001b[0m: : |\n",
      "| : : : : |\n",
      "| | : | : |\n",
      "|Y| : |B: |\n",
      "+---------+\n",
      "  (East)\n",
      "-1\n",
      "+---------+\n",
      "|R: | : :\u001b[35mG\u001b[0m|\n",
      "| : : :\u001b[42m_\u001b[0m: |\n",
      "| : : : : |\n",
      "| | : | : |\n",
      "|Y| : |B: |\n",
      "+---------+\n",
      "  (East)\n",
      "-1\n",
      "+---------+\n",
      "|R: | :\u001b[42m_\u001b[0m:\u001b[35mG\u001b[0m|\n",
      "| : : : : |\n",
      "| : : : : |\n",
      "| | : | : |\n",
      "|Y| : |B: |\n",
      "+---------+\n",
      "  (North)\n",
      "-1\n",
      "+---------+\n",
      "|R: | : :\u001b[35m\u001b[42mG\u001b[0m\u001b[0m|\n",
      "| : : : : |\n",
      "| : : : : |\n",
      "| | : | : |\n",
      "|Y| : |B: |\n",
      "+---------+\n",
      "  (East)\n",
      "20\n",
      "+---------+\n",
      "|R: | : :\u001b[35m\u001b[42mG\u001b[0m\u001b[0m|\n",
      "| : : : : |\n",
      "| : : : : |\n",
      "| | : | : |\n",
      "|Y| : |B: |\n",
      "+---------+\n",
      "  (Dropoff)\n"
     ]
    }
   ],
   "source": [
    "s = env.reset()\n",
    "play_game(s, Q)"
   ]
  },
  {
   "cell_type": "code",
   "execution_count": 124,
   "metadata": {},
   "outputs": [],
   "source": [
    "env.close()"
   ]
  },
  {
   "cell_type": "code",
   "execution_count": 125,
   "metadata": {},
   "outputs": [],
   "source": [
    "env = gym.make(\"FrozenLake-v0\")"
   ]
  },
  {
   "cell_type": "code",
   "execution_count": 126,
   "metadata": {},
   "outputs": [
    {
     "data": {
      "text/plain": [
       "0"
      ]
     },
     "execution_count": 126,
     "metadata": {},
     "output_type": "execute_result"
    }
   ],
   "source": [
    "env.reset()"
   ]
  },
  {
   "cell_type": "code",
   "execution_count": 127,
   "metadata": {},
   "outputs": [
    {
     "data": {
      "text/plain": [
       "16"
      ]
     },
     "execution_count": 127,
     "metadata": {},
     "output_type": "execute_result"
    }
   ],
   "source": [
    "env.observation_space.n"
   ]
  },
  {
   "cell_type": "code",
   "execution_count": 128,
   "metadata": {},
   "outputs": [
    {
     "data": {
      "text/plain": [
       "4"
      ]
     },
     "execution_count": 128,
     "metadata": {},
     "output_type": "execute_result"
    }
   ],
   "source": [
    "env.action_space.n"
   ]
  },
  {
   "cell_type": "code",
   "execution_count": 129,
   "metadata": {},
   "outputs": [
    {
     "name": "stdout",
     "output_type": "stream",
     "text": [
      "\n",
      "\u001b[41mS\u001b[0mFFF\n",
      "FHFH\n",
      "FFFH\n",
      "HFFG\n"
     ]
    }
   ],
   "source": [
    "env.render()"
   ]
  },
  {
   "cell_type": "code",
   "execution_count": 130,
   "metadata": {},
   "outputs": [],
   "source": [
    "Q = np.zeros([env.observation_space.n, env.action_space.n])"
   ]
  },
  {
   "cell_type": "code",
   "execution_count": 132,
   "metadata": {},
   "outputs": [
    {
     "name": "stdout",
     "output_type": "stream",
     "text": [
      "\n",
      "SFFF\n",
      "FHFH\n",
      "FFF\u001b[41mH\u001b[0m\n",
      "HFFG\n"
     ]
    }
   ],
   "source": [
    "G = 0\n",
    "alpha = 0.614\n",
    "\n",
    "env.env.s = 11\n",
    "env.render()"
   ]
  },
  {
   "cell_type": "code",
   "execution_count": 138,
   "metadata": {},
   "outputs": [
    {
     "name": "stdout",
     "output_type": "stream",
     "text": [
      "0 0.0 False {'prob': 0.3333333333333333}\n",
      "0 0.0 False {'prob': 0.3333333333333333}\n",
      "0 0.0 False {'prob': 0.3333333333333333}\n",
      "4 0.0 False {'prob': 0.3333333333333333}\n",
      "4 0.0 False {'prob': 0.3333333333333333}\n",
      "0 0.0 False {'prob': 0.3333333333333333}\n",
      "0 0.0 False {'prob': 0.3333333333333333}\n",
      "0 0.0 False {'prob': 0.3333333333333333}\n",
      "4 0.0 False {'prob': 0.3333333333333333}\n",
      "8 0.0 False {'prob': 0.3333333333333333}\n",
      "8 0.0 False {'prob': 0.3333333333333333}\n",
      "8 0.0 False {'prob': 0.3333333333333333}\n",
      "12 0.0 True {'prob': 0.3333333333333333}\n",
      "4 0.0 False {'prob': 0.3333333333333333}\n",
      "0 0.0 False {'prob': 0.3333333333333333}\n",
      "4 0.0 False {'prob': 0.3333333333333333}\n",
      "0 0.0 False {'prob': 0.3333333333333333}\n",
      "4 0.0 False {'prob': 0.3333333333333333}\n",
      "8 0.0 False {'prob': 0.3333333333333333}\n",
      "4 0.0 False {'prob': 0.3333333333333333}\n",
      "8 0.0 False {'prob': 0.3333333333333333}\n",
      "4 0.0 False {'prob': 0.3333333333333333}\n",
      "4 0.0 False {'prob': 0.3333333333333333}\n",
      "0 0.0 False {'prob': 0.3333333333333333}\n",
      "0 0.0 False {'prob': 0.3333333333333333}\n",
      "0 0.0 False {'prob': 0.3333333333333333}\n",
      "0 0.0 False {'prob': 0.3333333333333333}\n",
      "0 0.0 False {'prob': 0.3333333333333333}\n",
      "0 0.0 False {'prob': 0.3333333333333333}\n",
      "0 0.0 False {'prob': 0.3333333333333333}\n",
      "0 0.0 False {'prob': 0.3333333333333333}\n",
      "0 0.0 False {'prob': 0.3333333333333333}\n",
      "0 0.0 False {'prob': 0.3333333333333333}\n",
      "4 0.0 False {'prob': 0.3333333333333333}\n",
      "4 0.0 False {'prob': 0.3333333333333333}\n",
      "8 0.0 False {'prob': 0.3333333333333333}\n",
      "4 0.0 False {'prob': 0.3333333333333333}\n",
      "4 0.0 False {'prob': 0.3333333333333333}\n",
      "8 0.0 False {'prob': 0.3333333333333333}\n",
      "12 0.0 True {'prob': 0.3333333333333333}\n",
      "4 0.0 False {'prob': 0.3333333333333333}\n",
      "8 0.0 False {'prob': 0.3333333333333333}\n",
      "12 0.0 True {'prob': 0.3333333333333333}\n",
      "0 0.0 False {'prob': 0.3333333333333333}\n",
      "0 0.0 False {'prob': 0.3333333333333333}\n",
      "0 0.0 False {'prob': 0.3333333333333333}\n",
      "4 0.0 False {'prob': 0.3333333333333333}\n",
      "0 0.0 False {'prob': 0.3333333333333333}\n",
      "0 0.0 False {'prob': 0.3333333333333333}\n",
      "0 0.0 False {'prob': 0.3333333333333333}\n",
      "4 0.0 False {'prob': 0.3333333333333333}\n",
      "4 0.0 False {'prob': 0.3333333333333333}\n",
      "8 0.0 False {'prob': 0.3333333333333333}\n",
      "12 0.0 True {'prob': 0.3333333333333333}\n",
      "4 0.0 False {'prob': 0.3333333333333333}\n",
      "0 0.0 False {'prob': 0.3333333333333333}\n",
      "4 0.0 False {'prob': 0.3333333333333333}\n",
      "0 0.0 False {'prob': 0.3333333333333333}\n",
      "0 0.0 False {'prob': 0.3333333333333333}\n",
      "0 0.0 False {'prob': 0.3333333333333333}\n",
      "0 0.0 False {'prob': 0.3333333333333333}\n",
      "0 0.0 False {'prob': 0.3333333333333333}\n",
      "0 0.0 False {'prob': 0.3333333333333333}\n",
      "0 0.0 False {'prob': 0.3333333333333333}\n",
      "4 0.0 False {'prob': 0.3333333333333333}\n",
      "0 0.0 False {'prob': 0.3333333333333333}\n",
      "0 0.0 False {'prob': 0.3333333333333333}\n",
      "0 0.0 False {'prob': 0.3333333333333333}\n",
      "0 0.0 False {'prob': 0.3333333333333333}\n",
      "4 0.0 False {'prob': 0.3333333333333333}\n",
      "0 0.0 False {'prob': 0.3333333333333333}\n",
      "0 0.0 False {'prob': 0.3333333333333333}\n",
      "4 0.0 False {'prob': 0.3333333333333333}\n",
      "0 0.0 False {'prob': 0.3333333333333333}\n",
      "0 0.0 False {'prob': 0.3333333333333333}\n",
      "4 0.0 False {'prob': 0.3333333333333333}\n",
      "8 0.0 False {'prob': 0.3333333333333333}\n",
      "12 0.0 True {'prob': 0.3333333333333333}\n",
      "4 0.0 False {'prob': 0.3333333333333333}\n",
      "0 0.0 False {'prob': 0.3333333333333333}\n",
      "0 0.0 False {'prob': 0.3333333333333333}\n",
      "0 0.0 False {'prob': 0.3333333333333333}\n",
      "0 0.0 False {'prob': 0.3333333333333333}\n",
      "4 0.0 False {'prob': 0.3333333333333333}\n",
      "0 0.0 False {'prob': 0.3333333333333333}\n",
      "0 0.0 False {'prob': 0.3333333333333333}\n",
      "0 0.0 False {'prob': 0.3333333333333333}\n",
      "0 0.0 False {'prob': 0.3333333333333333}\n",
      "0 0.0 False {'prob': 0.3333333333333333}\n",
      "0 0.0 False {'prob': 0.3333333333333333}\n",
      "0 0.0 False {'prob': 0.3333333333333333}\n",
      "4 0.0 False {'prob': 0.3333333333333333}\n",
      "0 0.0 False {'prob': 0.3333333333333333}\n",
      "4 0.0 False {'prob': 0.3333333333333333}\n",
      "0 0.0 False {'prob': 0.3333333333333333}\n",
      "4 0.0 False {'prob': 0.3333333333333333}\n",
      "8 0.0 False {'prob': 0.3333333333333333}\n",
      "4 0.0 False {'prob': 0.3333333333333333}\n",
      "8 0.0 False {'prob': 0.3333333333333333}\n",
      "12 0.0 True {'prob': 0.3333333333333333}\n",
      "4 0.0 False {'prob': 0.3333333333333333}\n",
      "4 0.0 False {'prob': 0.3333333333333333}\n",
      "0 0.0 False {'prob': 0.3333333333333333}\n",
      "0 0.0 False {'prob': 0.3333333333333333}\n",
      "0 0.0 False {'prob': 0.3333333333333333}\n",
      "0 0.0 False {'prob': 0.3333333333333333}\n",
      "0 0.0 False {'prob': 0.3333333333333333}\n",
      "0 0.0 False {'prob': 0.3333333333333333}\n",
      "0 0.0 False {'prob': 0.3333333333333333}\n",
      "0 0.0 False {'prob': 0.3333333333333333}\n",
      "4 0.0 False {'prob': 0.3333333333333333}\n",
      "0 0.0 False {'prob': 0.3333333333333333}\n",
      "0 0.0 False {'prob': 0.3333333333333333}\n",
      "0 0.0 False {'prob': 0.3333333333333333}\n",
      "4 0.0 False {'prob': 0.3333333333333333}\n",
      "8 0.0 False {'prob': 0.3333333333333333}\n",
      "4 0.0 False {'prob': 0.3333333333333333}\n",
      "0 0.0 False {'prob': 0.3333333333333333}\n",
      "0 0.0 False {'prob': 0.3333333333333333}\n",
      "0 0.0 False {'prob': 0.3333333333333333}\n",
      "0 0.0 False {'prob': 0.3333333333333333}\n",
      "0 0.0 False {'prob': 0.3333333333333333}\n",
      "0 0.0 False {'prob': 0.3333333333333333}\n",
      "4 0.0 False {'prob': 0.3333333333333333}\n",
      "8 0.0 False {'prob': 0.3333333333333333}\n",
      "8 0.0 False {'prob': 0.3333333333333333}\n",
      "8 0.0 False {'prob': 0.3333333333333333}\n",
      "8 0.0 False {'prob': 0.3333333333333333}\n",
      "4 0.0 False {'prob': 0.3333333333333333}\n",
      "8 0.0 False {'prob': 0.3333333333333333}\n",
      "4 0.0 False {'prob': 0.3333333333333333}\n",
      "0 0.0 False {'prob': 0.3333333333333333}\n",
      "4 0.0 False {'prob': 0.3333333333333333}\n",
      "4 0.0 False {'prob': 0.3333333333333333}\n",
      "4 0.0 False {'prob': 0.3333333333333333}\n",
      "4 0.0 False {'prob': 0.3333333333333333}\n",
      "0 0.0 False {'prob': 0.3333333333333333}\n",
      "0 0.0 False {'prob': 0.3333333333333333}\n",
      "4 0.0 False {'prob': 0.3333333333333333}\n",
      "8 0.0 False {'prob': 0.3333333333333333}\n",
      "12 0.0 True {'prob': 0.3333333333333333}\n",
      "4 0.0 False {'prob': 0.3333333333333333}\n",
      "0 0.0 False {'prob': 0.3333333333333333}\n",
      "0 0.0 False {'prob': 0.3333333333333333}\n",
      "4 0.0 False {'prob': 0.3333333333333333}\n",
      "8 0.0 False {'prob': 0.3333333333333333}\n",
      "4 0.0 False {'prob': 0.3333333333333333}\n",
      "0 0.0 False {'prob': 0.3333333333333333}\n",
      "4 0.0 False {'prob': 0.3333333333333333}\n",
      "4 0.0 False {'prob': 0.3333333333333333}\n",
      "0 0.0 False {'prob': 0.3333333333333333}\n",
      "0 0.0 False {'prob': 0.3333333333333333}\n",
      "4 0.0 False {'prob': 0.3333333333333333}\n",
      "0 0.0 False {'prob': 0.3333333333333333}\n",
      "0 0.0 False {'prob': 0.3333333333333333}\n",
      "0 0.0 False {'prob': 0.3333333333333333}\n",
      "4 0.0 False {'prob': 0.3333333333333333}\n",
      "0 0.0 False {'prob': 0.3333333333333333}\n",
      "4 0.0 False {'prob': 0.3333333333333333}\n",
      "0 0.0 False {'prob': 0.3333333333333333}\n",
      "0 0.0 False {'prob': 0.3333333333333333}\n",
      "4 0.0 False {'prob': 0.3333333333333333}\n",
      "8 0.0 False {'prob': 0.3333333333333333}\n",
      "12 0.0 True {'prob': 0.3333333333333333}\n",
      "4 0.0 False {'prob': 0.3333333333333333}\n",
      "4 0.0 False {'prob': 0.3333333333333333}\n",
      "8 0.0 False {'prob': 0.3333333333333333}\n",
      "12 0.0 True {'prob': 0.3333333333333333}\n"
     ]
    }
   ],
   "source": [
    "for episode in range(1,10):\n",
    "    done = False\n",
    "    G, reward = 0,0\n",
    "    state = env.reset()\n",
    "    while done != True:\n",
    "            action = np.argmax(Q[state]) #1\n",
    "            state2, reward, done, info = env.step(action) #2\n",
    "            print(state2, reward, done, info)\n",
    "            Q[state,action] += alpha * (reward + np.max(Q[state2]) - Q[state,action]) #3\n",
    "            G += reward\n",
    "            state = state2   \n",
    "    if episode % 50 == 0:\n",
    "        print('Episode {} Total Reward: {}'.format(episode,G))"
   ]
  },
  {
   "cell_type": "code",
   "execution_count": 134,
   "metadata": {},
   "outputs": [
    {
     "data": {
      "text/plain": [
       "array([[0., 0., 0., 0.],\n",
       "       [0., 0., 0., 0.],\n",
       "       [0., 0., 0., 0.],\n",
       "       [0., 0., 0., 0.],\n",
       "       [0., 0., 0., 0.],\n",
       "       [0., 0., 0., 0.],\n",
       "       [0., 0., 0., 0.],\n",
       "       [0., 0., 0., 0.],\n",
       "       [0., 0., 0., 0.],\n",
       "       [0., 0., 0., 0.],\n",
       "       [0., 0., 0., 0.],\n",
       "       [0., 0., 0., 0.],\n",
       "       [0., 0., 0., 0.],\n",
       "       [0., 0., 0., 0.],\n",
       "       [0., 0., 0., 0.],\n",
       "       [0., 0., 0., 0.]])"
      ]
     },
     "execution_count": 134,
     "metadata": {},
     "output_type": "execute_result"
    }
   ],
   "source": [
    "Q"
   ]
  },
  {
   "cell_type": "code",
   "execution_count": null,
   "metadata": {},
   "outputs": [],
   "source": []
  }
 ],
 "metadata": {
  "kernelspec": {
   "display_name": "Python 3",
   "language": "python",
   "name": "python3"
  }
 },
 "nbformat": 4,
 "nbformat_minor": 2
}
